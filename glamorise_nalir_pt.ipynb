{
 "cells": [
  {
   "cell_type": "code",
   "execution_count": 2,
   "id": "99afabf2",
   "metadata": {},
   "outputs": [
    {
     "ename": "ModuleNotFoundError",
     "evalue": "No module named 'main_nalir_seade_single_nlq_notebook'",
     "output_type": "error",
     "traceback": [
      "\u001b[0;31m---------------------------------------------------------------------------\u001b[0m",
      "\u001b[0;31mModuleNotFoundError\u001b[0m                       Traceback (most recent call last)",
      "Input \u001b[0;32mIn [2]\u001b[0m, in \u001b[0;36m<cell line: 4>\u001b[0;34m()\u001b[0m\n\u001b[1;32m      1\u001b[0m \u001b[38;5;28;01mimport\u001b[39;00m \u001b[38;5;21;01mspacy\u001b[39;00m\n\u001b[1;32m      2\u001b[0m \u001b[38;5;28;01mfrom\u001b[39;00m \u001b[38;5;21;01mspacy\u001b[39;00m \u001b[38;5;28;01mimport\u001b[39;00m displacy\n\u001b[0;32m----> 4\u001b[0m \u001b[38;5;28;01mfrom\u001b[39;00m \u001b[38;5;21;01mmain_nalir_seade_single_nlq_notebook\u001b[39;00m \u001b[38;5;28;01mimport\u001b[39;00m \u001b[38;5;241m*\u001b[39m\n\u001b[1;32m      7\u001b[0m nlp \u001b[38;5;241m=\u001b[39m spacy\u001b[38;5;241m.\u001b[39mload(\u001b[38;5;124m\"\u001b[39m\u001b[38;5;124mpt_core_news_md\u001b[39m\u001b[38;5;124m\"\u001b[39m)\n",
      "\u001b[0;31mModuleNotFoundError\u001b[0m: No module named 'main_nalir_seade_single_nlq_notebook'"
     ]
    }
   ],
   "source": [
    "import spacy\n",
    "from spacy import displacy\n",
    "\n",
    "from main_nalir_seade_single_nlq_notebook import *\n",
    "\n",
    "\n",
    "nlp = spacy.load(\"pt_core_news_md\")"
   ]
  },
  {
   "cell_type": "code",
   "execution_count": null,
   "id": "d0ed23c2",
   "metadata": {},
   "outputs": [],
   "source": [
    "nlqs = [\n",
    "    # Sem agregações e sem cláusula 'WHERE'\n",
    "    \"retorne todos os municípios em casos\",\n",
    "\n",
    "    # Sem agregações e com cláusula 'WHERE'\n",
    "    \"retorne todas as idades dos casos onde o município é São Paulo\",\n",
    "    \"retorne todas as idades dos casos do município de São Paulo\",\n",
    "\n",
    "    # Agregações sem agrupamentos e sem cláusula 'WHERE'\n",
    "    \"devolva quantos óbitos existem em casos\",\n",
    "    \"Devolva quantos casos há\",\n",
    "    \"devolva a máxima idade em casos\",\n",
    "    \"devolva a mínima idade em casos\",\n",
    "    \"devolva as idades somadas em casos\",\n",
    "    \"devolva a idade média em casos\",\n",
    "\n",
    "    # Agregações sem agrupamentos e com cláusula 'WHERE'\n",
    "    \"devolva quantos óbitos do tipo positivo existem em casos\",\n",
    "    \"devolva quantos óbitos do tipo positivo onde o município é São Paulo\",\n",
    "    \"devolva quantos óbitos do tipo positivo há no município de São Paulo\",\n",
    "\n",
    "    \"devolva a máxima idade no município de São Paulo\",\n",
    "    \"devolva a mínima idade no município de São Paulo\",\n",
    "    \"devolva as idades somadas no município de São Paulo\",\n",
    "    \"devolva a idade média no município de São Paulo\",\n",
    "\n",
    "    # Agregações com agrupamentos e sem cláusula 'WHERE'\n",
    "    \"devolva quantos casos há por município\",\n",
    "    \"devolva a máxima idade por município\",\n",
    "    \"devolva a mínima idade por município\",\n",
    "    \"devolva as idades somadas por município\",\n",
    "    \"devolva a idade média por município\",\n",
    "\n",
    "    # Agregações com agrupamentos e com cláusula 'WHERE'\n",
    "    \"devolva quantos óbitos do tipo positivo há no município de São Paulo por raça\",\n",
    "    \"devolva a máxima idade no município de São Paulo por raça\",\n",
    "    \"devolva a mínima idade no município de São Paulo por raça\",\n",
    "    \"devolva as idades somadas no município de São Paulo por raça\",\n",
    "    \"devolva a idade média no município de São Paulo por raça\",\n",
    "\n",
    "    \"devolva quantos óbitos do tipo positivo há no município de São Paulo por diagnóstico\",\n",
    "    \"devolva quantos diagnóstico há agrupados por raça e por sexo e por diagnóstico\",\n",
    "    \"devolva a máxima idade no município de São Paulo por diagnóstico\",\n",
    "    \"devolva a mínima idade no município de São Paulo por diagnóstico\",\n",
    "    \"devolva as idades somadas no município de São Paulo por diagnóstico\",\n",
    "    \"devolva a idade média no município de São Paulo por diagnóstico\",\n",
    "]"
   ]
  },
  {
   "cell_type": "code",
   "execution_count": null,
   "id": "7f4c1648",
   "metadata": {},
   "outputs": [],
   "source": [
    "get_sql_command([nlqs[0]])"
   ]
  },
  {
   "cell_type": "code",
   "execution_count": null,
   "id": "a43f6993",
   "metadata": {},
   "outputs": [],
   "source": [
    "doc = nlp(nlqs[0]) \n",
    "options = {'compact': True} \n",
    "displacy.serve(doc, style='dep', options=options) "
   ]
  },
  {
   "cell_type": "code",
   "execution_count": null,
   "id": "26fba63a",
   "metadata": {
    "scrolled": false
   },
   "outputs": [],
   "source": [
    "get_sql_command([nlqs[1]])"
   ]
  },
  {
   "cell_type": "code",
   "execution_count": null,
   "id": "51bde976",
   "metadata": {},
   "outputs": [],
   "source": [
    "doc = nlp(nlqs[1]) \n",
    "options = {'compact': True} \n",
    "displacy.serve(doc, style='dep', options=options)"
   ]
  },
  {
   "cell_type": "code",
   "execution_count": null,
   "id": "53fa7d76",
   "metadata": {},
   "outputs": [],
   "source": [
    "get_sql_command([nlqs[2]])"
   ]
  },
  {
   "cell_type": "code",
   "execution_count": null,
   "id": "6f4c527e",
   "metadata": {},
   "outputs": [],
   "source": [
    "doc = nlp(nlqs[2]) \n",
    "options = {'compact': True} \n",
    "displacy.serve(doc, style='dep', options=options)"
   ]
  },
  {
   "cell_type": "code",
   "execution_count": null,
   "id": "c05027ee",
   "metadata": {},
   "outputs": [],
   "source": [
    "get_sql_command([nlqs[3]])"
   ]
  },
  {
   "cell_type": "code",
   "execution_count": null,
   "id": "696a7430",
   "metadata": {},
   "outputs": [],
   "source": [
    "doc = nlp(nlqs[3]) \n",
    "options = {'compact': True} \n",
    "displacy.serve(doc, style='dep', options=options)"
   ]
  },
  {
   "cell_type": "code",
   "execution_count": null,
   "id": "6c790c4f",
   "metadata": {},
   "outputs": [],
   "source": [
    "get_sql_command([nlqs[4]])"
   ]
  },
  {
   "cell_type": "code",
   "execution_count": null,
   "id": "4d986e50",
   "metadata": {},
   "outputs": [],
   "source": [
    "doc = nlp(nlqs[4]) \n",
    "options = {'compact': True} \n",
    "displacy.serve(doc, style='dep', options=options)"
   ]
  },
  {
   "cell_type": "code",
   "execution_count": null,
   "id": "16e4d0b0",
   "metadata": {},
   "outputs": [],
   "source": [
    "get_sql_command([nlqs[5]])"
   ]
  },
  {
   "cell_type": "code",
   "execution_count": null,
   "id": "17c8add3",
   "metadata": {},
   "outputs": [],
   "source": [
    "doc = nlp(nlqs[5]) \n",
    "options = {'compact': True} \n",
    "displacy.serve(doc, style='dep', options=options)"
   ]
  },
  {
   "cell_type": "code",
   "execution_count": null,
   "id": "35ed2f2d",
   "metadata": {},
   "outputs": [],
   "source": [
    "get_sql_command([nlqs[6]])"
   ]
  },
  {
   "cell_type": "code",
   "execution_count": null,
   "id": "d80b9704",
   "metadata": {},
   "outputs": [],
   "source": [
    "doc = nlp(nlqs[6]) \n",
    "options = {'compact': True} \n",
    "displacy.serve(doc, style='dep', options=options)"
   ]
  },
  {
   "cell_type": "code",
   "execution_count": null,
   "id": "a87cc74e",
   "metadata": {},
   "outputs": [],
   "source": [
    "get_sql_command([nlqs[7]])"
   ]
  },
  {
   "cell_type": "code",
   "execution_count": null,
   "id": "979c865f",
   "metadata": {},
   "outputs": [],
   "source": [
    "doc = nlp(nlqs[7]) \n",
    "options = {'compact': True} \n",
    "displacy.serve(doc, style='dep', options=options)"
   ]
  },
  {
   "cell_type": "code",
   "execution_count": null,
   "id": "2954a149",
   "metadata": {},
   "outputs": [],
   "source": [
    "get_sql_command([nlqs[8]])"
   ]
  },
  {
   "cell_type": "code",
   "execution_count": null,
   "id": "fcfeaca7",
   "metadata": {},
   "outputs": [],
   "source": [
    "doc = nlp(nlqs[8]) \n",
    "options = {'compact': True} \n",
    "displacy.serve(doc, style='dep', options=options)"
   ]
  },
  {
   "cell_type": "code",
   "execution_count": null,
   "id": "3db5ca64",
   "metadata": {},
   "outputs": [],
   "source": [
    "get_sql_command([nlqs[9]])"
   ]
  },
  {
   "cell_type": "code",
   "execution_count": null,
   "id": "e19b21ec",
   "metadata": {},
   "outputs": [],
   "source": [
    "doc = nlp(nlqs[9]) \n",
    "options = {'compact': True} \n",
    "displacy.serve(doc, style='dep', options=options)"
   ]
  },
  {
   "cell_type": "code",
   "execution_count": null,
   "id": "5b0902a8",
   "metadata": {},
   "outputs": [],
   "source": [
    "get_sql_command([nlqs[10]])"
   ]
  },
  {
   "cell_type": "code",
   "execution_count": null,
   "id": "cc152207",
   "metadata": {},
   "outputs": [],
   "source": [
    "doc = nlp(nlqs[10]) \n",
    "options = {'compact': True} \n",
    "displacy.serve(doc, style='dep', options=options)"
   ]
  },
  {
   "cell_type": "code",
   "execution_count": null,
   "id": "3f02915f",
   "metadata": {},
   "outputs": [],
   "source": [
    "get_sql_command([nlqs[11]])"
   ]
  },
  {
   "cell_type": "code",
   "execution_count": null,
   "id": "b4dd7fd4",
   "metadata": {},
   "outputs": [],
   "source": [
    "doc = nlp(nlqs[11]) \n",
    "options = {'compact': True} \n",
    "displacy.serve(doc, style='dep', options=options)"
   ]
  },
  {
   "cell_type": "code",
   "execution_count": null,
   "id": "b0424c71",
   "metadata": {},
   "outputs": [],
   "source": [
    "get_sql_command([nlqs[12]])"
   ]
  },
  {
   "cell_type": "code",
   "execution_count": null,
   "id": "5bcaa450",
   "metadata": {},
   "outputs": [],
   "source": [
    "doc = nlp(nlqs[12]) \n",
    "options = {'compact': True} \n",
    "displacy.serve(doc, style='dep', options=options)"
   ]
  },
  {
   "cell_type": "code",
   "execution_count": null,
   "id": "5ac9feac",
   "metadata": {},
   "outputs": [],
   "source": [
    "get_sql_command([nlqs[13]])"
   ]
  },
  {
   "cell_type": "code",
   "execution_count": null,
   "id": "4f230a25",
   "metadata": {},
   "outputs": [],
   "source": [
    "doc = nlp(nlqs[13]) \n",
    "options = {'compact': True} \n",
    "displacy.serve(doc, style='dep', options=options)"
   ]
  },
  {
   "cell_type": "code",
   "execution_count": null,
   "id": "c761cca3",
   "metadata": {},
   "outputs": [],
   "source": [
    "get_sql_command([nlqs[14]])"
   ]
  },
  {
   "cell_type": "code",
   "execution_count": null,
   "id": "202f109a",
   "metadata": {},
   "outputs": [],
   "source": [
    "doc = nlp(nlqs[14]) \n",
    "options = {'compact': True} \n",
    "displacy.serve(doc, style='dep', options=options)"
   ]
  },
  {
   "cell_type": "code",
   "execution_count": null,
   "id": "5ba66df7",
   "metadata": {},
   "outputs": [],
   "source": [
    "get_sql_command([nlqs[15]])"
   ]
  },
  {
   "cell_type": "code",
   "execution_count": null,
   "id": "d1b2a2e4",
   "metadata": {},
   "outputs": [],
   "source": [
    "doc = nlp(nlqs[15]) \n",
    "options = {'compact': True} \n",
    "displacy.serve(doc, style='dep', options=options)"
   ]
  },
  {
   "cell_type": "code",
   "execution_count": null,
   "id": "3b907c22",
   "metadata": {},
   "outputs": [],
   "source": [
    "get_sql_command([nlqs[16]])"
   ]
  },
  {
   "cell_type": "code",
   "execution_count": null,
   "id": "8b2507ab",
   "metadata": {},
   "outputs": [],
   "source": [
    "doc = nlp(nlqs[16]) \n",
    "options = {'compact': True} \n",
    "displacy.serve(doc, style='dep', options=options)"
   ]
  },
  {
   "cell_type": "code",
   "execution_count": null,
   "id": "ba5f5cc1",
   "metadata": {},
   "outputs": [],
   "source": [
    "get_sql_command([nlqs[17]])"
   ]
  },
  {
   "cell_type": "code",
   "execution_count": null,
   "id": "dcf4dc96",
   "metadata": {},
   "outputs": [],
   "source": [
    "doc = nlp(nlqs[17]) \n",
    "options = {'compact': True} \n",
    "displacy.serve(doc, style='dep', options=options)"
   ]
  },
  {
   "cell_type": "code",
   "execution_count": null,
   "id": "b7d5caf0",
   "metadata": {},
   "outputs": [],
   "source": [
    "get_sql_command([nlqs[18]])"
   ]
  },
  {
   "cell_type": "code",
   "execution_count": null,
   "id": "bf078079",
   "metadata": {},
   "outputs": [],
   "source": [
    "doc = nlp(nlqs[18]) \n",
    "options = {'compact': True} \n",
    "displacy.serve(doc, style='dep', options=options)"
   ]
  },
  {
   "cell_type": "code",
   "execution_count": null,
   "id": "c0d398d5",
   "metadata": {},
   "outputs": [],
   "source": [
    "get_sql_command([nlqs[19]])"
   ]
  },
  {
   "cell_type": "code",
   "execution_count": null,
   "id": "ce586617",
   "metadata": {},
   "outputs": [],
   "source": [
    "doc = nlp(nlqs[19]) \n",
    "options = {'compact': True} \n",
    "displacy.serve(doc, style='dep', options=options)"
   ]
  },
  {
   "cell_type": "code",
   "execution_count": null,
   "id": "9c136046",
   "metadata": {},
   "outputs": [],
   "source": [
    "get_sql_command([nlqs[20]])"
   ]
  },
  {
   "cell_type": "code",
   "execution_count": null,
   "id": "cfacfc3c",
   "metadata": {},
   "outputs": [],
   "source": [
    "doc = nlp(nlqs[20]) \n",
    "options = {'compact': True} \n",
    "displacy.serve(doc, style='dep', options=options)"
   ]
  },
  {
   "cell_type": "code",
   "execution_count": null,
   "id": "b0faf78e",
   "metadata": {},
   "outputs": [],
   "source": [
    "get_sql_command([nlqs[21]])"
   ]
  },
  {
   "cell_type": "code",
   "execution_count": null,
   "id": "d5c85726",
   "metadata": {},
   "outputs": [],
   "source": [
    "doc = nlp(nlqs[21]) \n",
    "options = {'compact': True} \n",
    "displacy.serve(doc, style='dep', options=options)"
   ]
  },
  {
   "cell_type": "code",
   "execution_count": null,
   "id": "9a3ef1f2",
   "metadata": {},
   "outputs": [],
   "source": [
    "get_sql_command([nlqs[22]])"
   ]
  },
  {
   "cell_type": "code",
   "execution_count": null,
   "id": "a73c8468",
   "metadata": {},
   "outputs": [],
   "source": [
    "doc = nlp(nlqs[22]) \n",
    "options = {'compact': True} \n",
    "displacy.serve(doc, style='dep', options=options)"
   ]
  },
  {
   "cell_type": "code",
   "execution_count": null,
   "id": "b70ce937",
   "metadata": {},
   "outputs": [],
   "source": [
    "get_sql_command([nlqs[23]])"
   ]
  },
  {
   "cell_type": "code",
   "execution_count": null,
   "id": "83863127",
   "metadata": {},
   "outputs": [],
   "source": [
    "doc = nlp(nlqs[23]) \n",
    "options = {'compact': True} \n",
    "displacy.serve(doc, style='dep', options=options)"
   ]
  },
  {
   "cell_type": "code",
   "execution_count": null,
   "id": "dafcc207",
   "metadata": {},
   "outputs": [],
   "source": [
    "get_sql_command([nlqs[24]])"
   ]
  },
  {
   "cell_type": "code",
   "execution_count": null,
   "id": "f7a3531c",
   "metadata": {},
   "outputs": [],
   "source": [
    "doc = nlp(nlqs[24]) \n",
    "options = {'compact': True} \n",
    "displacy.serve(doc, style='dep', options=options)"
   ]
  },
  {
   "cell_type": "code",
   "execution_count": null,
   "id": "bcffae6e",
   "metadata": {},
   "outputs": [],
   "source": [
    "get_sql_command([nlqs[25]])"
   ]
  },
  {
   "cell_type": "code",
   "execution_count": null,
   "id": "76afd823",
   "metadata": {},
   "outputs": [],
   "source": [
    "doc = nlp(nlqs[25]) \n",
    "options = {'compact': True} \n",
    "displacy.serve(doc, style='dep', options=options)"
   ]
  },
  {
   "cell_type": "code",
   "execution_count": null,
   "id": "7aee1291",
   "metadata": {},
   "outputs": [],
   "source": [
    "get_sql_command([nlqs[26]])"
   ]
  },
  {
   "cell_type": "code",
   "execution_count": null,
   "id": "4c970652",
   "metadata": {},
   "outputs": [],
   "source": [
    "doc = nlp(nlqs[26]) \n",
    "options = {'compact': True} \n",
    "displacy.serve(doc, style='dep', options=options)"
   ]
  },
  {
   "cell_type": "code",
   "execution_count": null,
   "id": "1eb98362",
   "metadata": {},
   "outputs": [],
   "source": [
    "get_sql_command([nlqs[27]])"
   ]
  },
  {
   "cell_type": "code",
   "execution_count": null,
   "id": "a60bd556",
   "metadata": {},
   "outputs": [],
   "source": [
    "doc = nlp(nlqs[27]) \n",
    "options = {'compact': True} \n",
    "displacy.serve(doc, style='dep', options=options)"
   ]
  },
  {
   "cell_type": "code",
   "execution_count": null,
   "id": "16cae161",
   "metadata": {},
   "outputs": [],
   "source": [
    "get_sql_command([nlqs[28]])"
   ]
  },
  {
   "cell_type": "code",
   "execution_count": null,
   "id": "5cc998fb",
   "metadata": {},
   "outputs": [],
   "source": [
    "doc = nlp(nlqs[28]) \n",
    "options = {'compact': True} \n",
    "displacy.serve(doc, style='dep', options=options)"
   ]
  },
  {
   "cell_type": "code",
   "execution_count": null,
   "id": "8a2ff827",
   "metadata": {},
   "outputs": [],
   "source": [
    "get_sql_command([nlqs[29]])"
   ]
  },
  {
   "cell_type": "code",
   "execution_count": null,
   "id": "f3d1003c",
   "metadata": {},
   "outputs": [],
   "source": [
    "doc = nlp(nlqs[29]) \n",
    "options = {'compact': True} \n",
    "displacy.serve(doc, style='dep', options=options)"
   ]
  },
  {
   "cell_type": "code",
   "execution_count": null,
   "id": "dce63780",
   "metadata": {},
   "outputs": [],
   "source": [
    "get_sql_command([nlqs[30]])"
   ]
  },
  {
   "cell_type": "code",
   "execution_count": null,
   "id": "3a76c3b2",
   "metadata": {},
   "outputs": [],
   "source": [
    "doc = nlp(nlqs[30]) \n",
    "options = {'compact': True} \n",
    "displacy.serve(doc, style='dep', options=options)"
   ]
  },
  {
   "cell_type": "code",
   "execution_count": null,
   "id": "7828516d",
   "metadata": {},
   "outputs": [],
   "source": [
    "get_sql_command([nlqs[31]])"
   ]
  },
  {
   "cell_type": "code",
   "execution_count": null,
   "id": "004e47fe",
   "metadata": {},
   "outputs": [],
   "source": [
    "doc = nlp(nlqs[31]) \n",
    "options = {'compact': True} \n",
    "displacy.serve(doc, style='dep', options=options)"
   ]
  }
 ],
 "metadata": {
  "kernelspec": {
   "display_name": "Python 3 (ipykernel)",
   "language": "python",
   "name": "python3"
  },
  "language_info": {
   "codemirror_mode": {
    "name": "ipython",
    "version": 3
   },
   "file_extension": ".py",
   "mimetype": "text/x-python",
   "name": "python",
   "nbconvert_exporter": "python",
   "pygments_lexer": "ipython3",
   "version": "3.10.4"
  }
 },
 "nbformat": 4,
 "nbformat_minor": 5
}

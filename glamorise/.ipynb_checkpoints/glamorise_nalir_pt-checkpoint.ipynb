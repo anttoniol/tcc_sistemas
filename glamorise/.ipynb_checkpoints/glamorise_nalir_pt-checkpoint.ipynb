{
 "cells": [
  {
   "cell_type": "code",
   "execution_count": 1,
   "id": "99afabf2",
   "metadata": {
    "scrolled": true
   },
   "outputs": [],
   "source": [
    "import spacy\n",
    "from spacy import displacy\n",
    "\n",
    "from main_nalir_seade_single_nlq_notebook import *\n",
    "\n",
    "\n",
    "nlp = spacy.load(\"pt_core_news_md\")"
   ]
  },
  {
   "cell_type": "code",
   "execution_count": 2,
   "id": "d0ed23c2",
   "metadata": {},
   "outputs": [],
   "source": [
    "nlqs = [\n",
    "    # Sem agregações e sem cláusula 'WHERE'\n",
    "    \"retorne todos os municípios em casos\",\n",
    "\n",
    "    # Sem agregações e com cláusula 'WHERE'\n",
    "    \"retorne todas as idades dos casos onde o município é São Paulo\",\n",
    "    \"retorne todas as idades dos casos do município de São Paulo\",\n",
    "\n",
    "    # Agregações sem agrupamentos e sem cláusula 'WHERE'\n",
    "    \"devolva quantos óbitos existem em casos\",\n",
    "    \"Devolva quantos casos há\",\n",
    "    \"devolva a máxima idade em casos\",\n",
    "    \"devolva a mínima idade em casos\",\n",
    "    \"devolva as idades somadas em casos\",\n",
    "    \"devolva a idade média em casos\",\n",
    "\n",
    "    # Agregações sem agrupamentos e com cláusula 'WHERE'\n",
    "    \"devolva quantos óbitos do tipo positivo existem em casos\",\n",
    "    \"devolva quantos óbitos do tipo positivo onde o município é São Paulo\",\n",
    "    \"devolva quantos óbitos do tipo positivo há no município de São Paulo\",\n",
    "\n",
    "    \"devolva a máxima idade no município de São Paulo\",\n",
    "    \"devolva a mínima idade no município de São Paulo\",\n",
    "    \"devolva as idades somadas no município de São Paulo\",\n",
    "    \"devolva a idade média no município de São Paulo\",\n",
    "\n",
    "    # Agregações com agrupamentos e sem cláusula 'WHERE'\n",
    "    \"devolva quantos casos há por município\",\n",
    "    \"devolva a máxima idade por município\",\n",
    "    \"devolva a mínima idade por município\",\n",
    "    \"devolva as idades somadas por município\",\n",
    "    \"devolva a idade média por município\",\n",
    "\n",
    "    # Agregações com agrupamentos e com cláusula 'WHERE'\n",
    "    \"devolva quantos óbitos do tipo positivo há no município de São Paulo por raça\",\n",
    "    \"devolva a máxima idade no município de São Paulo por raça\",\n",
    "    \"devolva a mínima idade no município de São Paulo por raça\",\n",
    "    \"devolva as idades somadas no município de São Paulo por raça\",\n",
    "    \"devolva a idade média no município de São Paulo por raça\",\n",
    "\n",
    "    \"devolva quantos óbitos do tipo positivo há no município de São Paulo por diagnóstico\",\n",
    "    \"devolva quantos diagnóstico há agrupados por raça e por sexo e por diagnóstico\",\n",
    "    \"devolva a máxima idade no município de São Paulo por diagnóstico\",\n",
    "    \"devolva a mínima idade no município de São Paulo por diagnóstico\",\n",
    "    \"devolva as idades somadas no município de São Paulo por diagnóstico\",\n",
    "    \"devolva a idade média no município de São Paulo por diagnóstico\",\n",
    "]"
   ]
  },
  {
   "cell_type": "code",
   "execution_count": null,
   "id": "7f4c1648",
   "metadata": {},
   "outputs": [],
   "source": [
    "get_sql_command([nlqs[0]])"
   ]
  },
  {
   "cell_type": "code",
   "execution_count": 50,
   "id": "ed4e8463",
   "metadata": {},
   "outputs": [
    {
     "data": {
      "text/html": [
       "<span class=\"tex2jax_ignore\"><svg xmlns=\"http://www.w3.org/2000/svg\" xmlns:xlink=\"http://www.w3.org/1999/xlink\" xml:lang=\"pt\" id=\"cc04db0e230141409f5499ab4d6f927e-0\" class=\"displacy\" width=\"530\" height=\"266.0\" direction=\"ltr\" style=\"max-width: none; height: 266.0px; color: #000000; background: #ffffff; font-family: Arial; direction: ltr\">\n",
       "<text class=\"displacy-token\" fill=\"currentColor\" text-anchor=\"middle\" y=\"196.0\">\n",
       "    <tspan class=\"displacy-word\" fill=\"currentColor\" x=\"50\">retorne</tspan>\n",
       "    <tspan class=\"displacy-tag\" dy=\"2em\" fill=\"currentColor\" x=\"50\">VERB</tspan>\n",
       "</text>\n",
       "\n",
       "<text class=\"displacy-token\" fill=\"currentColor\" text-anchor=\"middle\" y=\"196.0\">\n",
       "    <tspan class=\"displacy-word\" fill=\"currentColor\" x=\"130\">todos</tspan>\n",
       "    <tspan class=\"displacy-tag\" dy=\"2em\" fill=\"currentColor\" x=\"130\">DET</tspan>\n",
       "</text>\n",
       "\n",
       "<text class=\"displacy-token\" fill=\"currentColor\" text-anchor=\"middle\" y=\"196.0\">\n",
       "    <tspan class=\"displacy-word\" fill=\"currentColor\" x=\"210\">os</tspan>\n",
       "    <tspan class=\"displacy-tag\" dy=\"2em\" fill=\"currentColor\" x=\"210\">DET</tspan>\n",
       "</text>\n",
       "\n",
       "<text class=\"displacy-token\" fill=\"currentColor\" text-anchor=\"middle\" y=\"196.0\">\n",
       "    <tspan class=\"displacy-word\" fill=\"currentColor\" x=\"290\">municípios</tspan>\n",
       "    <tspan class=\"displacy-tag\" dy=\"2em\" fill=\"currentColor\" x=\"290\">NOUN</tspan>\n",
       "</text>\n",
       "\n",
       "<text class=\"displacy-token\" fill=\"currentColor\" text-anchor=\"middle\" y=\"196.0\">\n",
       "    <tspan class=\"displacy-word\" fill=\"currentColor\" x=\"370\">em</tspan>\n",
       "    <tspan class=\"displacy-tag\" dy=\"2em\" fill=\"currentColor\" x=\"370\">ADP</tspan>\n",
       "</text>\n",
       "\n",
       "<text class=\"displacy-token\" fill=\"currentColor\" text-anchor=\"middle\" y=\"196.0\">\n",
       "    <tspan class=\"displacy-word\" fill=\"currentColor\" x=\"450\">casos</tspan>\n",
       "    <tspan class=\"displacy-tag\" dy=\"2em\" fill=\"currentColor\" x=\"450\">NOUN</tspan>\n",
       "</text>\n",
       "\n",
       "<g class=\"displacy-arrow\">\n",
       "    <path class=\"displacy-arc\" id=\"arrow-cc04db0e230141409f5499ab4d6f927e-0-0\" stroke-width=\"1px\" d=\"M131,161.0 C131,81.0 289.5,81.0 289.5,161.0\" fill=\"none\" stroke=\"currentColor\"/>\n",
       "    <text dy=\"1.25em\" style=\"font-size: 0.8em; letter-spacing: 1px\">\n",
       "        <textPath xlink:href=\"#arrow-cc04db0e230141409f5499ab4d6f927e-0-0\" class=\"displacy-label\" startOffset=\"50%\" side=\"left\" fill=\"currentColor\" text-anchor=\"middle\">det</textPath>\n",
       "    </text>\n",
       "    <path class=\"displacy-arrowhead\" d=\"M131,163.0 L123,151.0 139,151.0\" fill=\"currentColor\"/>\n",
       "</g>\n",
       "\n",
       "<g class=\"displacy-arrow\">\n",
       "    <path class=\"displacy-arc\" id=\"arrow-cc04db0e230141409f5499ab4d6f927e-0-1\" stroke-width=\"1px\" d=\"M131,161.0 C131,121.0 209.25,121.0 209.25,161.0\" fill=\"none\" stroke=\"currentColor\"/>\n",
       "    <text dy=\"1.25em\" style=\"font-size: 0.8em; letter-spacing: 1px\">\n",
       "        <textPath xlink:href=\"#arrow-cc04db0e230141409f5499ab4d6f927e-0-1\" class=\"displacy-label\" startOffset=\"50%\" side=\"left\" fill=\"currentColor\" text-anchor=\"middle\">fixed</textPath>\n",
       "    </text>\n",
       "    <path class=\"displacy-arrowhead\" d=\"M209.25,163.0 L217.25,151.0 201.25,151.0\" fill=\"currentColor\"/>\n",
       "</g>\n",
       "\n",
       "<g class=\"displacy-arrow\">\n",
       "    <path class=\"displacy-arc\" id=\"arrow-cc04db0e230141409f5499ab4d6f927e-0-2\" stroke-width=\"1px\" d=\"M51,161.0 C51,41.0 289.75,41.0 289.75,161.0\" fill=\"none\" stroke=\"currentColor\"/>\n",
       "    <text dy=\"1.25em\" style=\"font-size: 0.8em; letter-spacing: 1px\">\n",
       "        <textPath xlink:href=\"#arrow-cc04db0e230141409f5499ab4d6f927e-0-2\" class=\"displacy-label\" startOffset=\"50%\" side=\"left\" fill=\"currentColor\" text-anchor=\"middle\">obj</textPath>\n",
       "    </text>\n",
       "    <path class=\"displacy-arrowhead\" d=\"M289.75,163.0 L297.75,151.0 281.75,151.0\" fill=\"currentColor\"/>\n",
       "</g>\n",
       "\n",
       "<g class=\"displacy-arrow\">\n",
       "    <path class=\"displacy-arc\" id=\"arrow-cc04db0e230141409f5499ab4d6f927e-0-3\" stroke-width=\"1px\" d=\"M371,161.0 C371,121.0 449.25,121.0 449.25,161.0\" fill=\"none\" stroke=\"currentColor\"/>\n",
       "    <text dy=\"1.25em\" style=\"font-size: 0.8em; letter-spacing: 1px\">\n",
       "        <textPath xlink:href=\"#arrow-cc04db0e230141409f5499ab4d6f927e-0-3\" class=\"displacy-label\" startOffset=\"50%\" side=\"left\" fill=\"currentColor\" text-anchor=\"middle\">case</textPath>\n",
       "    </text>\n",
       "    <path class=\"displacy-arrowhead\" d=\"M371,163.0 L363,151.0 379,151.0\" fill=\"currentColor\"/>\n",
       "</g>\n",
       "\n",
       "<g class=\"displacy-arrow\">\n",
       "    <path class=\"displacy-arc\" id=\"arrow-cc04db0e230141409f5499ab4d6f927e-0-4\" stroke-width=\"1px\" d=\"M51,161.0 C51,1.0 450.0,1.0 450.0,161.0\" fill=\"none\" stroke=\"currentColor\"/>\n",
       "    <text dy=\"1.25em\" style=\"font-size: 0.8em; letter-spacing: 1px\">\n",
       "        <textPath xlink:href=\"#arrow-cc04db0e230141409f5499ab4d6f927e-0-4\" class=\"displacy-label\" startOffset=\"50%\" side=\"left\" fill=\"currentColor\" text-anchor=\"middle\">obl</textPath>\n",
       "    </text>\n",
       "    <path class=\"displacy-arrowhead\" d=\"M450.0,163.0 L458.0,151.0 442.0,151.0\" fill=\"currentColor\"/>\n",
       "</g>\n",
       "</svg></span>"
      ],
      "text/plain": [
       "<IPython.core.display.HTML object>"
      ]
     },
     "metadata": {},
     "output_type": "display_data"
    }
   ],
   "source": [
    "doc = nlp(nlqs[0]) \n",
    "options = {'compact': False, 'word_spacing': 35, 'distance': 80, 'arrow_spacing': 1, 'arrow_stroke': 1} \n",
    "displacy.render(doc, style='dep', page=False, options=options)"
   ]
  },
  {
   "cell_type": "code",
   "execution_count": null,
   "id": "26fba63a",
   "metadata": {
    "scrolled": false
   },
   "outputs": [],
   "source": [
    "get_sql_command([nlqs[1]])"
   ]
  },
  {
   "cell_type": "code",
   "execution_count": 49,
   "id": "c4915ad3",
   "metadata": {
    "scrolled": false
   },
   "outputs": [
    {
     "data": {
      "text/html": [
       "<span class=\"tex2jax_ignore\"><svg xmlns=\"http://www.w3.org/2000/svg\" xmlns:xlink=\"http://www.w3.org/1999/xlink\" xml:lang=\"pt\" id=\"c98f241c0ec44c68a7d0a2c2d8cb5d43-0\" class=\"displacy\" width=\"1010\" height=\"266.0\" direction=\"ltr\" style=\"max-width: none; height: 266.0px; color: #000000; background: #ffffff; font-family: Arial; direction: ltr\">\n",
       "<text class=\"displacy-token\" fill=\"currentColor\" text-anchor=\"middle\" y=\"196.0\">\n",
       "    <tspan class=\"displacy-word\" fill=\"currentColor\" x=\"50\">retorne</tspan>\n",
       "    <tspan class=\"displacy-tag\" dy=\"2em\" fill=\"currentColor\" x=\"50\">VERB</tspan>\n",
       "</text>\n",
       "\n",
       "<text class=\"displacy-token\" fill=\"currentColor\" text-anchor=\"middle\" y=\"196.0\">\n",
       "    <tspan class=\"displacy-word\" fill=\"currentColor\" x=\"130\">todas</tspan>\n",
       "    <tspan class=\"displacy-tag\" dy=\"2em\" fill=\"currentColor\" x=\"130\">DET</tspan>\n",
       "</text>\n",
       "\n",
       "<text class=\"displacy-token\" fill=\"currentColor\" text-anchor=\"middle\" y=\"196.0\">\n",
       "    <tspan class=\"displacy-word\" fill=\"currentColor\" x=\"210\">as</tspan>\n",
       "    <tspan class=\"displacy-tag\" dy=\"2em\" fill=\"currentColor\" x=\"210\">DET</tspan>\n",
       "</text>\n",
       "\n",
       "<text class=\"displacy-token\" fill=\"currentColor\" text-anchor=\"middle\" y=\"196.0\">\n",
       "    <tspan class=\"displacy-word\" fill=\"currentColor\" x=\"290\">idades</tspan>\n",
       "    <tspan class=\"displacy-tag\" dy=\"2em\" fill=\"currentColor\" x=\"290\">NOUN</tspan>\n",
       "</text>\n",
       "\n",
       "<text class=\"displacy-token\" fill=\"currentColor\" text-anchor=\"middle\" y=\"196.0\">\n",
       "    <tspan class=\"displacy-word\" fill=\"currentColor\" x=\"370\">dos</tspan>\n",
       "    <tspan class=\"displacy-tag\" dy=\"2em\" fill=\"currentColor\" x=\"370\">ADP</tspan>\n",
       "</text>\n",
       "\n",
       "<text class=\"displacy-token\" fill=\"currentColor\" text-anchor=\"middle\" y=\"196.0\">\n",
       "    <tspan class=\"displacy-word\" fill=\"currentColor\" x=\"450\">casos</tspan>\n",
       "    <tspan class=\"displacy-tag\" dy=\"2em\" fill=\"currentColor\" x=\"450\">NOUN</tspan>\n",
       "</text>\n",
       "\n",
       "<text class=\"displacy-token\" fill=\"currentColor\" text-anchor=\"middle\" y=\"196.0\">\n",
       "    <tspan class=\"displacy-word\" fill=\"currentColor\" x=\"530\">onde</tspan>\n",
       "    <tspan class=\"displacy-tag\" dy=\"2em\" fill=\"currentColor\" x=\"530\">PRON</tspan>\n",
       "</text>\n",
       "\n",
       "<text class=\"displacy-token\" fill=\"currentColor\" text-anchor=\"middle\" y=\"196.0\">\n",
       "    <tspan class=\"displacy-word\" fill=\"currentColor\" x=\"610\">o</tspan>\n",
       "    <tspan class=\"displacy-tag\" dy=\"2em\" fill=\"currentColor\" x=\"610\">DET</tspan>\n",
       "</text>\n",
       "\n",
       "<text class=\"displacy-token\" fill=\"currentColor\" text-anchor=\"middle\" y=\"196.0\">\n",
       "    <tspan class=\"displacy-word\" fill=\"currentColor\" x=\"690\">município</tspan>\n",
       "    <tspan class=\"displacy-tag\" dy=\"2em\" fill=\"currentColor\" x=\"690\">NOUN</tspan>\n",
       "</text>\n",
       "\n",
       "<text class=\"displacy-token\" fill=\"currentColor\" text-anchor=\"middle\" y=\"196.0\">\n",
       "    <tspan class=\"displacy-word\" fill=\"currentColor\" x=\"770\">é</tspan>\n",
       "    <tspan class=\"displacy-tag\" dy=\"2em\" fill=\"currentColor\" x=\"770\">AUX</tspan>\n",
       "</text>\n",
       "\n",
       "<text class=\"displacy-token\" fill=\"currentColor\" text-anchor=\"middle\" y=\"196.0\">\n",
       "    <tspan class=\"displacy-word\" fill=\"currentColor\" x=\"850\">São</tspan>\n",
       "    <tspan class=\"displacy-tag\" dy=\"2em\" fill=\"currentColor\" x=\"850\">PROPN</tspan>\n",
       "</text>\n",
       "\n",
       "<text class=\"displacy-token\" fill=\"currentColor\" text-anchor=\"middle\" y=\"196.0\">\n",
       "    <tspan class=\"displacy-word\" fill=\"currentColor\" x=\"930\">Paulo</tspan>\n",
       "    <tspan class=\"displacy-tag\" dy=\"2em\" fill=\"currentColor\" x=\"930\">PROPN</tspan>\n",
       "</text>\n",
       "\n",
       "<g class=\"displacy-arrow\">\n",
       "    <path class=\"displacy-arc\" id=\"arrow-c98f241c0ec44c68a7d0a2c2d8cb5d43-0-0\" stroke-width=\"1px\" d=\"M131,161.0 C131,81.0 289.5,81.0 289.5,161.0\" fill=\"none\" stroke=\"currentColor\"/>\n",
       "    <text dy=\"1.25em\" style=\"font-size: 0.8em; letter-spacing: 1px\">\n",
       "        <textPath xlink:href=\"#arrow-c98f241c0ec44c68a7d0a2c2d8cb5d43-0-0\" class=\"displacy-label\" startOffset=\"50%\" side=\"left\" fill=\"currentColor\" text-anchor=\"middle\">det</textPath>\n",
       "    </text>\n",
       "    <path class=\"displacy-arrowhead\" d=\"M131,163.0 L123,151.0 139,151.0\" fill=\"currentColor\"/>\n",
       "</g>\n",
       "\n",
       "<g class=\"displacy-arrow\">\n",
       "    <path class=\"displacy-arc\" id=\"arrow-c98f241c0ec44c68a7d0a2c2d8cb5d43-0-1\" stroke-width=\"1px\" d=\"M131,161.0 C131,121.0 209.25,121.0 209.25,161.0\" fill=\"none\" stroke=\"currentColor\"/>\n",
       "    <text dy=\"1.25em\" style=\"font-size: 0.8em; letter-spacing: 1px\">\n",
       "        <textPath xlink:href=\"#arrow-c98f241c0ec44c68a7d0a2c2d8cb5d43-0-1\" class=\"displacy-label\" startOffset=\"50%\" side=\"left\" fill=\"currentColor\" text-anchor=\"middle\">fixed</textPath>\n",
       "    </text>\n",
       "    <path class=\"displacy-arrowhead\" d=\"M209.25,163.0 L217.25,151.0 201.25,151.0\" fill=\"currentColor\"/>\n",
       "</g>\n",
       "\n",
       "<g class=\"displacy-arrow\">\n",
       "    <path class=\"displacy-arc\" id=\"arrow-c98f241c0ec44c68a7d0a2c2d8cb5d43-0-2\" stroke-width=\"1px\" d=\"M51,161.0 C51,41.0 289.75,41.0 289.75,161.0\" fill=\"none\" stroke=\"currentColor\"/>\n",
       "    <text dy=\"1.25em\" style=\"font-size: 0.8em; letter-spacing: 1px\">\n",
       "        <textPath xlink:href=\"#arrow-c98f241c0ec44c68a7d0a2c2d8cb5d43-0-2\" class=\"displacy-label\" startOffset=\"50%\" side=\"left\" fill=\"currentColor\" text-anchor=\"middle\">obj</textPath>\n",
       "    </text>\n",
       "    <path class=\"displacy-arrowhead\" d=\"M289.75,163.0 L297.75,151.0 281.75,151.0\" fill=\"currentColor\"/>\n",
       "</g>\n",
       "\n",
       "<g class=\"displacy-arrow\">\n",
       "    <path class=\"displacy-arc\" id=\"arrow-c98f241c0ec44c68a7d0a2c2d8cb5d43-0-3\" stroke-width=\"1px\" d=\"M371,161.0 C371,121.0 449.25,121.0 449.25,161.0\" fill=\"none\" stroke=\"currentColor\"/>\n",
       "    <text dy=\"1.25em\" style=\"font-size: 0.8em; letter-spacing: 1px\">\n",
       "        <textPath xlink:href=\"#arrow-c98f241c0ec44c68a7d0a2c2d8cb5d43-0-3\" class=\"displacy-label\" startOffset=\"50%\" side=\"left\" fill=\"currentColor\" text-anchor=\"middle\">case</textPath>\n",
       "    </text>\n",
       "    <path class=\"displacy-arrowhead\" d=\"M371,163.0 L363,151.0 379,151.0\" fill=\"currentColor\"/>\n",
       "</g>\n",
       "\n",
       "<g class=\"displacy-arrow\">\n",
       "    <path class=\"displacy-arc\" id=\"arrow-c98f241c0ec44c68a7d0a2c2d8cb5d43-0-4\" stroke-width=\"1px\" d=\"M291,161.0 C291,81.0 449.5,81.0 449.5,161.0\" fill=\"none\" stroke=\"currentColor\"/>\n",
       "    <text dy=\"1.25em\" style=\"font-size: 0.8em; letter-spacing: 1px\">\n",
       "        <textPath xlink:href=\"#arrow-c98f241c0ec44c68a7d0a2c2d8cb5d43-0-4\" class=\"displacy-label\" startOffset=\"50%\" side=\"left\" fill=\"currentColor\" text-anchor=\"middle\">nmod</textPath>\n",
       "    </text>\n",
       "    <path class=\"displacy-arrowhead\" d=\"M449.5,163.0 L457.5,151.0 441.5,151.0\" fill=\"currentColor\"/>\n",
       "</g>\n",
       "\n",
       "<g class=\"displacy-arrow\">\n",
       "    <path class=\"displacy-arc\" id=\"arrow-c98f241c0ec44c68a7d0a2c2d8cb5d43-0-5\" stroke-width=\"1px\" d=\"M531,161.0 C531,41.0 849.75,41.0 849.75,161.0\" fill=\"none\" stroke=\"currentColor\"/>\n",
       "    <text dy=\"1.25em\" style=\"font-size: 0.8em; letter-spacing: 1px\">\n",
       "        <textPath xlink:href=\"#arrow-c98f241c0ec44c68a7d0a2c2d8cb5d43-0-5\" class=\"displacy-label\" startOffset=\"50%\" side=\"left\" fill=\"currentColor\" text-anchor=\"middle\">nmod</textPath>\n",
       "    </text>\n",
       "    <path class=\"displacy-arrowhead\" d=\"M531,163.0 L523,151.0 539,151.0\" fill=\"currentColor\"/>\n",
       "</g>\n",
       "\n",
       "<g class=\"displacy-arrow\">\n",
       "    <path class=\"displacy-arc\" id=\"arrow-c98f241c0ec44c68a7d0a2c2d8cb5d43-0-6\" stroke-width=\"1px\" d=\"M611,161.0 C611,121.0 689.25,121.0 689.25,161.0\" fill=\"none\" stroke=\"currentColor\"/>\n",
       "    <text dy=\"1.25em\" style=\"font-size: 0.8em; letter-spacing: 1px\">\n",
       "        <textPath xlink:href=\"#arrow-c98f241c0ec44c68a7d0a2c2d8cb5d43-0-6\" class=\"displacy-label\" startOffset=\"50%\" side=\"left\" fill=\"currentColor\" text-anchor=\"middle\">det</textPath>\n",
       "    </text>\n",
       "    <path class=\"displacy-arrowhead\" d=\"M611,163.0 L603,151.0 619,151.0\" fill=\"currentColor\"/>\n",
       "</g>\n",
       "\n",
       "<g class=\"displacy-arrow\">\n",
       "    <path class=\"displacy-arc\" id=\"arrow-c98f241c0ec44c68a7d0a2c2d8cb5d43-0-7\" stroke-width=\"1px\" d=\"M691,161.0 C691,81.0 849.5,81.0 849.5,161.0\" fill=\"none\" stroke=\"currentColor\"/>\n",
       "    <text dy=\"1.25em\" style=\"font-size: 0.8em; letter-spacing: 1px\">\n",
       "        <textPath xlink:href=\"#arrow-c98f241c0ec44c68a7d0a2c2d8cb5d43-0-7\" class=\"displacy-label\" startOffset=\"50%\" side=\"left\" fill=\"currentColor\" text-anchor=\"middle\">nsubj</textPath>\n",
       "    </text>\n",
       "    <path class=\"displacy-arrowhead\" d=\"M691,163.0 L683,151.0 699,151.0\" fill=\"currentColor\"/>\n",
       "</g>\n",
       "\n",
       "<g class=\"displacy-arrow\">\n",
       "    <path class=\"displacy-arc\" id=\"arrow-c98f241c0ec44c68a7d0a2c2d8cb5d43-0-8\" stroke-width=\"1px\" d=\"M771,161.0 C771,121.0 849.25,121.0 849.25,161.0\" fill=\"none\" stroke=\"currentColor\"/>\n",
       "    <text dy=\"1.25em\" style=\"font-size: 0.8em; letter-spacing: 1px\">\n",
       "        <textPath xlink:href=\"#arrow-c98f241c0ec44c68a7d0a2c2d8cb5d43-0-8\" class=\"displacy-label\" startOffset=\"50%\" side=\"left\" fill=\"currentColor\" text-anchor=\"middle\">cop</textPath>\n",
       "    </text>\n",
       "    <path class=\"displacy-arrowhead\" d=\"M771,163.0 L763,151.0 779,151.0\" fill=\"currentColor\"/>\n",
       "</g>\n",
       "\n",
       "<g class=\"displacy-arrow\">\n",
       "    <path class=\"displacy-arc\" id=\"arrow-c98f241c0ec44c68a7d0a2c2d8cb5d43-0-9\" stroke-width=\"1px\" d=\"M451,161.0 C451,1.0 850.0,1.0 850.0,161.0\" fill=\"none\" stroke=\"currentColor\"/>\n",
       "    <text dy=\"1.25em\" style=\"font-size: 0.8em; letter-spacing: 1px\">\n",
       "        <textPath xlink:href=\"#arrow-c98f241c0ec44c68a7d0a2c2d8cb5d43-0-9\" class=\"displacy-label\" startOffset=\"50%\" side=\"left\" fill=\"currentColor\" text-anchor=\"middle\">acl:relcl</textPath>\n",
       "    </text>\n",
       "    <path class=\"displacy-arrowhead\" d=\"M850.0,163.0 L858.0,151.0 842.0,151.0\" fill=\"currentColor\"/>\n",
       "</g>\n",
       "\n",
       "<g class=\"displacy-arrow\">\n",
       "    <path class=\"displacy-arc\" id=\"arrow-c98f241c0ec44c68a7d0a2c2d8cb5d43-0-10\" stroke-width=\"1px\" d=\"M851,161.0 C851,121.0 929.25,121.0 929.25,161.0\" fill=\"none\" stroke=\"currentColor\"/>\n",
       "    <text dy=\"1.25em\" style=\"font-size: 0.8em; letter-spacing: 1px\">\n",
       "        <textPath xlink:href=\"#arrow-c98f241c0ec44c68a7d0a2c2d8cb5d43-0-10\" class=\"displacy-label\" startOffset=\"50%\" side=\"left\" fill=\"currentColor\" text-anchor=\"middle\">flat:name</textPath>\n",
       "    </text>\n",
       "    <path class=\"displacy-arrowhead\" d=\"M929.25,163.0 L937.25,151.0 921.25,151.0\" fill=\"currentColor\"/>\n",
       "</g>\n",
       "</svg></span>"
      ],
      "text/plain": [
       "<IPython.core.display.HTML object>"
      ]
     },
     "metadata": {},
     "output_type": "display_data"
    }
   ],
   "source": [
    "doc = nlp(nlqs[1]) \n",
    "options = {'compact': False, 'word_spacing': 35, 'distance': 80, 'arrow_spacing': 1, 'arrow_stroke': 1} \n",
    "displacy.render(doc, style='dep', page=False, options=options)"
   ]
  },
  {
   "cell_type": "code",
   "execution_count": null,
   "id": "53fa7d76",
   "metadata": {},
   "outputs": [],
   "source": [
    "get_sql_command([nlqs[2]])"
   ]
  },
  {
   "cell_type": "code",
   "execution_count": 53,
   "id": "a728825f",
   "metadata": {},
   "outputs": [
    {
     "data": {
      "text/html": [
       "<span class=\"tex2jax_ignore\"><svg xmlns=\"http://www.w3.org/2000/svg\" xmlns:xlink=\"http://www.w3.org/1999/xlink\" xml:lang=\"pt\" id=\"73f260cd20d44e94b92c373236aa2e5d-0\" class=\"displacy\" width=\"930\" height=\"226.0\" direction=\"ltr\" style=\"max-width: none; height: 226.0px; color: #000000; background: #ffffff; font-family: Arial; direction: ltr\">\n",
       "<text class=\"displacy-token\" fill=\"currentColor\" text-anchor=\"middle\" y=\"156.0\">\n",
       "    <tspan class=\"displacy-word\" fill=\"currentColor\" x=\"50\">retorne</tspan>\n",
       "    <tspan class=\"displacy-tag\" dy=\"2em\" fill=\"currentColor\" x=\"50\">VERB</tspan>\n",
       "</text>\n",
       "\n",
       "<text class=\"displacy-token\" fill=\"currentColor\" text-anchor=\"middle\" y=\"156.0\">\n",
       "    <tspan class=\"displacy-word\" fill=\"currentColor\" x=\"130\">todas</tspan>\n",
       "    <tspan class=\"displacy-tag\" dy=\"2em\" fill=\"currentColor\" x=\"130\">DET</tspan>\n",
       "</text>\n",
       "\n",
       "<text class=\"displacy-token\" fill=\"currentColor\" text-anchor=\"middle\" y=\"156.0\">\n",
       "    <tspan class=\"displacy-word\" fill=\"currentColor\" x=\"210\">as</tspan>\n",
       "    <tspan class=\"displacy-tag\" dy=\"2em\" fill=\"currentColor\" x=\"210\">DET</tspan>\n",
       "</text>\n",
       "\n",
       "<text class=\"displacy-token\" fill=\"currentColor\" text-anchor=\"middle\" y=\"156.0\">\n",
       "    <tspan class=\"displacy-word\" fill=\"currentColor\" x=\"290\">idades</tspan>\n",
       "    <tspan class=\"displacy-tag\" dy=\"2em\" fill=\"currentColor\" x=\"290\">NOUN</tspan>\n",
       "</text>\n",
       "\n",
       "<text class=\"displacy-token\" fill=\"currentColor\" text-anchor=\"middle\" y=\"156.0\">\n",
       "    <tspan class=\"displacy-word\" fill=\"currentColor\" x=\"370\">dos</tspan>\n",
       "    <tspan class=\"displacy-tag\" dy=\"2em\" fill=\"currentColor\" x=\"370\">ADP</tspan>\n",
       "</text>\n",
       "\n",
       "<text class=\"displacy-token\" fill=\"currentColor\" text-anchor=\"middle\" y=\"156.0\">\n",
       "    <tspan class=\"displacy-word\" fill=\"currentColor\" x=\"450\">casos</tspan>\n",
       "    <tspan class=\"displacy-tag\" dy=\"2em\" fill=\"currentColor\" x=\"450\">NOUN</tspan>\n",
       "</text>\n",
       "\n",
       "<text class=\"displacy-token\" fill=\"currentColor\" text-anchor=\"middle\" y=\"156.0\">\n",
       "    <tspan class=\"displacy-word\" fill=\"currentColor\" x=\"530\">do</tspan>\n",
       "    <tspan class=\"displacy-tag\" dy=\"2em\" fill=\"currentColor\" x=\"530\">ADP</tspan>\n",
       "</text>\n",
       "\n",
       "<text class=\"displacy-token\" fill=\"currentColor\" text-anchor=\"middle\" y=\"156.0\">\n",
       "    <tspan class=\"displacy-word\" fill=\"currentColor\" x=\"610\">município</tspan>\n",
       "    <tspan class=\"displacy-tag\" dy=\"2em\" fill=\"currentColor\" x=\"610\">NOUN</tspan>\n",
       "</text>\n",
       "\n",
       "<text class=\"displacy-token\" fill=\"currentColor\" text-anchor=\"middle\" y=\"156.0\">\n",
       "    <tspan class=\"displacy-word\" fill=\"currentColor\" x=\"690\">de</tspan>\n",
       "    <tspan class=\"displacy-tag\" dy=\"2em\" fill=\"currentColor\" x=\"690\">ADP</tspan>\n",
       "</text>\n",
       "\n",
       "<text class=\"displacy-token\" fill=\"currentColor\" text-anchor=\"middle\" y=\"156.0\">\n",
       "    <tspan class=\"displacy-word\" fill=\"currentColor\" x=\"770\">São</tspan>\n",
       "    <tspan class=\"displacy-tag\" dy=\"2em\" fill=\"currentColor\" x=\"770\">PROPN</tspan>\n",
       "</text>\n",
       "\n",
       "<text class=\"displacy-token\" fill=\"currentColor\" text-anchor=\"middle\" y=\"156.0\">\n",
       "    <tspan class=\"displacy-word\" fill=\"currentColor\" x=\"850\">Paulo</tspan>\n",
       "    <tspan class=\"displacy-tag\" dy=\"2em\" fill=\"currentColor\" x=\"850\">PROPN</tspan>\n",
       "</text>\n",
       "\n",
       "<g class=\"displacy-arrow\">\n",
       "    <path class=\"displacy-arc\" id=\"arrow-73f260cd20d44e94b92c373236aa2e5d-0-0\" stroke-width=\"1px\" d=\"M131,121.0 C131,41.0 289.75,41.0 289.75,121.0\" fill=\"none\" stroke=\"currentColor\"/>\n",
       "    <text dy=\"1.25em\" style=\"font-size: 0.8em; letter-spacing: 1px\">\n",
       "        <textPath xlink:href=\"#arrow-73f260cd20d44e94b92c373236aa2e5d-0-0\" class=\"displacy-label\" startOffset=\"50%\" side=\"left\" fill=\"currentColor\" text-anchor=\"middle\">det</textPath>\n",
       "    </text>\n",
       "    <path class=\"displacy-arrowhead\" d=\"M131,123.0 L123,111.0 139,111.0\" fill=\"currentColor\"/>\n",
       "</g>\n",
       "\n",
       "<g class=\"displacy-arrow\">\n",
       "    <path class=\"displacy-arc\" id=\"arrow-73f260cd20d44e94b92c373236aa2e5d-0-1\" stroke-width=\"1px\" d=\"M131,121.0 C131,81.0 209.5,81.0 209.5,121.0\" fill=\"none\" stroke=\"currentColor\"/>\n",
       "    <text dy=\"1.25em\" style=\"font-size: 0.8em; letter-spacing: 1px\">\n",
       "        <textPath xlink:href=\"#arrow-73f260cd20d44e94b92c373236aa2e5d-0-1\" class=\"displacy-label\" startOffset=\"50%\" side=\"left\" fill=\"currentColor\" text-anchor=\"middle\">fixed</textPath>\n",
       "    </text>\n",
       "    <path class=\"displacy-arrowhead\" d=\"M209.5,123.0 L217.5,111.0 201.5,111.0\" fill=\"currentColor\"/>\n",
       "</g>\n",
       "\n",
       "<g class=\"displacy-arrow\">\n",
       "    <path class=\"displacy-arc\" id=\"arrow-73f260cd20d44e94b92c373236aa2e5d-0-2\" stroke-width=\"1px\" d=\"M51,121.0 C51,1.0 290.0,1.0 290.0,121.0\" fill=\"none\" stroke=\"currentColor\"/>\n",
       "    <text dy=\"1.25em\" style=\"font-size: 0.8em; letter-spacing: 1px\">\n",
       "        <textPath xlink:href=\"#arrow-73f260cd20d44e94b92c373236aa2e5d-0-2\" class=\"displacy-label\" startOffset=\"50%\" side=\"left\" fill=\"currentColor\" text-anchor=\"middle\">obj</textPath>\n",
       "    </text>\n",
       "    <path class=\"displacy-arrowhead\" d=\"M290.0,123.0 L298.0,111.0 282.0,111.0\" fill=\"currentColor\"/>\n",
       "</g>\n",
       "\n",
       "<g class=\"displacy-arrow\">\n",
       "    <path class=\"displacy-arc\" id=\"arrow-73f260cd20d44e94b92c373236aa2e5d-0-3\" stroke-width=\"1px\" d=\"M371,121.0 C371,81.0 449.5,81.0 449.5,121.0\" fill=\"none\" stroke=\"currentColor\"/>\n",
       "    <text dy=\"1.25em\" style=\"font-size: 0.8em; letter-spacing: 1px\">\n",
       "        <textPath xlink:href=\"#arrow-73f260cd20d44e94b92c373236aa2e5d-0-3\" class=\"displacy-label\" startOffset=\"50%\" side=\"left\" fill=\"currentColor\" text-anchor=\"middle\">case</textPath>\n",
       "    </text>\n",
       "    <path class=\"displacy-arrowhead\" d=\"M371,123.0 L363,111.0 379,111.0\" fill=\"currentColor\"/>\n",
       "</g>\n",
       "\n",
       "<g class=\"displacy-arrow\">\n",
       "    <path class=\"displacy-arc\" id=\"arrow-73f260cd20d44e94b92c373236aa2e5d-0-4\" stroke-width=\"1px\" d=\"M291,121.0 C291,41.0 449.75,41.0 449.75,121.0\" fill=\"none\" stroke=\"currentColor\"/>\n",
       "    <text dy=\"1.25em\" style=\"font-size: 0.8em; letter-spacing: 1px\">\n",
       "        <textPath xlink:href=\"#arrow-73f260cd20d44e94b92c373236aa2e5d-0-4\" class=\"displacy-label\" startOffset=\"50%\" side=\"left\" fill=\"currentColor\" text-anchor=\"middle\">nmod</textPath>\n",
       "    </text>\n",
       "    <path class=\"displacy-arrowhead\" d=\"M449.75,123.0 L457.75,111.0 441.75,111.0\" fill=\"currentColor\"/>\n",
       "</g>\n",
       "\n",
       "<g class=\"displacy-arrow\">\n",
       "    <path class=\"displacy-arc\" id=\"arrow-73f260cd20d44e94b92c373236aa2e5d-0-5\" stroke-width=\"1px\" d=\"M531,121.0 C531,81.0 609.5,81.0 609.5,121.0\" fill=\"none\" stroke=\"currentColor\"/>\n",
       "    <text dy=\"1.25em\" style=\"font-size: 0.8em; letter-spacing: 1px\">\n",
       "        <textPath xlink:href=\"#arrow-73f260cd20d44e94b92c373236aa2e5d-0-5\" class=\"displacy-label\" startOffset=\"50%\" side=\"left\" fill=\"currentColor\" text-anchor=\"middle\">case</textPath>\n",
       "    </text>\n",
       "    <path class=\"displacy-arrowhead\" d=\"M531,123.0 L523,111.0 539,111.0\" fill=\"currentColor\"/>\n",
       "</g>\n",
       "\n",
       "<g class=\"displacy-arrow\">\n",
       "    <path class=\"displacy-arc\" id=\"arrow-73f260cd20d44e94b92c373236aa2e5d-0-6\" stroke-width=\"1px\" d=\"M451,121.0 C451,41.0 609.75,41.0 609.75,121.0\" fill=\"none\" stroke=\"currentColor\"/>\n",
       "    <text dy=\"1.25em\" style=\"font-size: 0.8em; letter-spacing: 1px\">\n",
       "        <textPath xlink:href=\"#arrow-73f260cd20d44e94b92c373236aa2e5d-0-6\" class=\"displacy-label\" startOffset=\"50%\" side=\"left\" fill=\"currentColor\" text-anchor=\"middle\">nmod</textPath>\n",
       "    </text>\n",
       "    <path class=\"displacy-arrowhead\" d=\"M609.75,123.0 L617.75,111.0 601.75,111.0\" fill=\"currentColor\"/>\n",
       "</g>\n",
       "\n",
       "<g class=\"displacy-arrow\">\n",
       "    <path class=\"displacy-arc\" id=\"arrow-73f260cd20d44e94b92c373236aa2e5d-0-7\" stroke-width=\"1px\" d=\"M691,121.0 C691,81.0 769.5,81.0 769.5,121.0\" fill=\"none\" stroke=\"currentColor\"/>\n",
       "    <text dy=\"1.25em\" style=\"font-size: 0.8em; letter-spacing: 1px\">\n",
       "        <textPath xlink:href=\"#arrow-73f260cd20d44e94b92c373236aa2e5d-0-7\" class=\"displacy-label\" startOffset=\"50%\" side=\"left\" fill=\"currentColor\" text-anchor=\"middle\">case</textPath>\n",
       "    </text>\n",
       "    <path class=\"displacy-arrowhead\" d=\"M691,123.0 L683,111.0 699,111.0\" fill=\"currentColor\"/>\n",
       "</g>\n",
       "\n",
       "<g class=\"displacy-arrow\">\n",
       "    <path class=\"displacy-arc\" id=\"arrow-73f260cd20d44e94b92c373236aa2e5d-0-8\" stroke-width=\"1px\" d=\"M611,121.0 C611,41.0 769.75,41.0 769.75,121.0\" fill=\"none\" stroke=\"currentColor\"/>\n",
       "    <text dy=\"1.25em\" style=\"font-size: 0.8em; letter-spacing: 1px\">\n",
       "        <textPath xlink:href=\"#arrow-73f260cd20d44e94b92c373236aa2e5d-0-8\" class=\"displacy-label\" startOffset=\"50%\" side=\"left\" fill=\"currentColor\" text-anchor=\"middle\">nmod</textPath>\n",
       "    </text>\n",
       "    <path class=\"displacy-arrowhead\" d=\"M769.75,123.0 L777.75,111.0 761.75,111.0\" fill=\"currentColor\"/>\n",
       "</g>\n",
       "\n",
       "<g class=\"displacy-arrow\">\n",
       "    <path class=\"displacy-arc\" id=\"arrow-73f260cd20d44e94b92c373236aa2e5d-0-9\" stroke-width=\"1px\" d=\"M771,121.0 C771,81.0 849.5,81.0 849.5,121.0\" fill=\"none\" stroke=\"currentColor\"/>\n",
       "    <text dy=\"1.25em\" style=\"font-size: 0.8em; letter-spacing: 1px\">\n",
       "        <textPath xlink:href=\"#arrow-73f260cd20d44e94b92c373236aa2e5d-0-9\" class=\"displacy-label\" startOffset=\"50%\" side=\"left\" fill=\"currentColor\" text-anchor=\"middle\">flat:name</textPath>\n",
       "    </text>\n",
       "    <path class=\"displacy-arrowhead\" d=\"M849.5,123.0 L857.5,111.0 841.5,111.0\" fill=\"currentColor\"/>\n",
       "</g>\n",
       "</svg></span>"
      ],
      "text/plain": [
       "<IPython.core.display.HTML object>"
      ]
     },
     "metadata": {},
     "output_type": "display_data"
    }
   ],
   "source": [
    "doc = nlp(nlqs[2]) \n",
    "options = {'compact': False, 'word_spacing': 35, 'distance': 80, 'arrow_spacing': 1, 'arrow_stroke': 1} \n",
    "displacy.render(doc, style='dep', options=options)"
   ]
  },
  {
   "cell_type": "code",
   "execution_count": null,
   "id": "c05027ee",
   "metadata": {},
   "outputs": [],
   "source": [
    "get_sql_command([nlqs[3]])"
   ]
  },
  {
   "cell_type": "code",
   "execution_count": null,
   "id": "b0838b3b",
   "metadata": {},
   "outputs": [],
   "source": [
    "doc = nlp(nlqs[3]) \n",
    "options = {'compact': False, 'word_spacing': 35, 'distance': 80, 'arrow_spacing': 1, 'arrow_stroke': 1} \n",
    "displacy.render(doc, style='dep', options=options)"
   ]
  },
  {
   "cell_type": "code",
   "execution_count": null,
   "id": "6c790c4f",
   "metadata": {},
   "outputs": [],
   "source": [
    "get_sql_command([nlqs[4]])"
   ]
  },
  {
   "cell_type": "code",
   "execution_count": null,
   "id": "80aa2947",
   "metadata": {},
   "outputs": [],
   "source": [
    "doc = nlp(nlqs[4]) \n",
    "options = {'compact': False, 'word_spacing': 35, 'distance': 80, 'arrow_spacing': 1, 'arrow_stroke': 1} \n",
    "displacy.render(doc, style='dep', options=options)"
   ]
  },
  {
   "cell_type": "code",
   "execution_count": null,
   "id": "16e4d0b0",
   "metadata": {},
   "outputs": [],
   "source": [
    "get_sql_command([nlqs[5]])"
   ]
  },
  {
   "cell_type": "code",
   "execution_count": null,
   "id": "bf3324d5",
   "metadata": {},
   "outputs": [],
   "source": [
    "doc = nlp(nlqs[5]) \n",
    "options = {'compact': False, 'word_spacing': 35, 'distance': 80, 'arrow_spacing': 1, 'arrow_stroke': 1} \n",
    "displacy.render(doc, style='dep', options=options)"
   ]
  },
  {
   "cell_type": "code",
   "execution_count": null,
   "id": "35ed2f2d",
   "metadata": {},
   "outputs": [],
   "source": [
    "get_sql_command([nlqs[6]])"
   ]
  },
  {
   "cell_type": "code",
   "execution_count": null,
   "id": "8d5f5f84",
   "metadata": {},
   "outputs": [],
   "source": [
    "doc = nlp(nlqs[6]) \n",
    "options = {'compact': False, 'word_spacing': 35, 'distance': 80, 'arrow_spacing': 1, 'arrow_stroke': 1} \n",
    "displacy.render(doc, style='dep', options=options)"
   ]
  },
  {
   "cell_type": "code",
   "execution_count": null,
   "id": "a87cc74e",
   "metadata": {},
   "outputs": [],
   "source": [
    "get_sql_command([nlqs[7]])"
   ]
  },
  {
   "cell_type": "code",
   "execution_count": null,
   "id": "a341bee3",
   "metadata": {},
   "outputs": [],
   "source": [
    "doc = nlp(nlqs[7]) \n",
    "options = {'compact': False, 'word_spacing': 35, 'distance': 80, 'arrow_spacing': 1, 'arrow_stroke': 1} \n",
    "displacy.render(doc, style='dep', options=options)"
   ]
  },
  {
   "cell_type": "code",
   "execution_count": null,
   "id": "2954a149",
   "metadata": {},
   "outputs": [],
   "source": [
    "get_sql_command([nlqs[8]])"
   ]
  },
  {
   "cell_type": "code",
   "execution_count": null,
   "id": "49594861",
   "metadata": {},
   "outputs": [],
   "source": [
    "doc = nlp(nlqs[8]) \n",
    "options = {'compact': False, 'word_spacing': 35, 'distance': 80, 'arrow_spacing': 1, 'arrow_stroke': 1} \n",
    "displacy.render(doc, style='dep', options=options)"
   ]
  },
  {
   "cell_type": "code",
   "execution_count": null,
   "id": "3db5ca64",
   "metadata": {},
   "outputs": [],
   "source": [
    "get_sql_command([nlqs[9]])"
   ]
  },
  {
   "cell_type": "code",
   "execution_count": null,
   "id": "d66c0694",
   "metadata": {},
   "outputs": [],
   "source": [
    "doc = nlp(nlqs[9]) \n",
    "options = {'compact': False, 'word_spacing': 35, 'distance': 80, 'arrow_spacing': 1, 'arrow_stroke': 1} \n",
    "displacy.render(doc, style='dep', options=options)"
   ]
  },
  {
   "cell_type": "code",
   "execution_count": null,
   "id": "5b0902a8",
   "metadata": {},
   "outputs": [],
   "source": [
    "get_sql_command([nlqs[10]])"
   ]
  },
  {
   "cell_type": "code",
   "execution_count": null,
   "id": "6dff9a54",
   "metadata": {},
   "outputs": [],
   "source": [
    "doc = nlp(nlqs[10]) \n",
    "options = {'compact': False, 'word_spacing': 35, 'distance': 80, 'arrow_spacing': 1, 'arrow_stroke': 1} \n",
    "displacy.render(doc, style='dep', options=options)"
   ]
  },
  {
   "cell_type": "code",
   "execution_count": null,
   "id": "3f02915f",
   "metadata": {},
   "outputs": [],
   "source": [
    "get_sql_command([nlqs[11]])"
   ]
  },
  {
   "cell_type": "code",
   "execution_count": null,
   "id": "4597abd0",
   "metadata": {},
   "outputs": [],
   "source": [
    "doc = nlp(nlqs[11]) \n",
    "options = {'compact': False, 'word_spacing': 35, 'distance': 80, 'arrow_spacing': 1, 'arrow_stroke': 1} \n",
    "displacy.render(doc, style='dep', options=options)"
   ]
  },
  {
   "cell_type": "code",
   "execution_count": null,
   "id": "b0424c71",
   "metadata": {},
   "outputs": [],
   "source": [
    "get_sql_command([nlqs[12]])"
   ]
  },
  {
   "cell_type": "code",
   "execution_count": null,
   "id": "ea35eeff",
   "metadata": {},
   "outputs": [],
   "source": [
    "doc = nlp(nlqs[12]) \n",
    "options = {'compact': False, 'word_spacing': 35, 'distance': 80, 'arrow_spacing': 1, 'arrow_stroke': 1} \n",
    "displacy.render(doc, style='dep', options=options)"
   ]
  },
  {
   "cell_type": "code",
   "execution_count": null,
   "id": "5ac9feac",
   "metadata": {},
   "outputs": [],
   "source": [
    "get_sql_command([nlqs[13]])"
   ]
  },
  {
   "cell_type": "code",
   "execution_count": null,
   "id": "c9bf67bf",
   "metadata": {},
   "outputs": [],
   "source": [
    "doc = nlp(nlqs[13]) \n",
    "options = {'compact': False, 'word_spacing': 35, 'distance': 80, 'arrow_spacing': 1, 'arrow_stroke': 1} \n",
    "displacy.render(doc, style='dep', options=options)"
   ]
  },
  {
   "cell_type": "code",
   "execution_count": null,
   "id": "c761cca3",
   "metadata": {},
   "outputs": [],
   "source": [
    "get_sql_command([nlqs[14]])"
   ]
  },
  {
   "cell_type": "code",
   "execution_count": null,
   "id": "06b4d568",
   "metadata": {},
   "outputs": [],
   "source": [
    "doc = nlp(nlqs[14]) \n",
    "options = {'compact': False, 'word_spacing': 35, 'distance': 80, 'arrow_spacing': 1, 'arrow_stroke': 1} \n",
    "displacy.render(doc, style='dep', options=options)"
   ]
  },
  {
   "cell_type": "code",
   "execution_count": null,
   "id": "5ba66df7",
   "metadata": {},
   "outputs": [],
   "source": [
    "get_sql_command([nlqs[15]])"
   ]
  },
  {
   "cell_type": "code",
   "execution_count": null,
   "id": "ec94e1e2",
   "metadata": {},
   "outputs": [],
   "source": [
    "doc = nlp(nlqs[15]) \n",
    "options = {'compact': False, 'word_spacing': 35, 'distance': 80, 'arrow_spacing': 1, 'arrow_stroke': 1} \n",
    "displacy.render(doc, style='dep', options=options)"
   ]
  },
  {
   "cell_type": "code",
   "execution_count": null,
   "id": "3b907c22",
   "metadata": {},
   "outputs": [],
   "source": [
    "get_sql_command([nlqs[16]])"
   ]
  },
  {
   "cell_type": "code",
   "execution_count": null,
   "id": "706918d3",
   "metadata": {},
   "outputs": [],
   "source": [
    "doc = nlp(nlqs[16]) \n",
    "options = {'compact': False, 'word_spacing': 35, 'distance': 80, 'arrow_spacing': 1, 'arrow_stroke': 1} \n",
    "displacy.render(doc, style='dep', options=options)"
   ]
  },
  {
   "cell_type": "code",
   "execution_count": null,
   "id": "ba5f5cc1",
   "metadata": {},
   "outputs": [],
   "source": [
    "get_sql_command([nlqs[17]])"
   ]
  },
  {
   "cell_type": "code",
   "execution_count": null,
   "id": "f745695f",
   "metadata": {},
   "outputs": [],
   "source": [
    "doc = nlp(nlqs[17]) \n",
    "options = {'compact': False, 'word_spacing': 35, 'distance': 80, 'arrow_spacing': 1, 'arrow_stroke': 1} \n",
    "displacy.render(doc, style='dep', options=options)"
   ]
  },
  {
   "cell_type": "code",
   "execution_count": null,
   "id": "b7d5caf0",
   "metadata": {},
   "outputs": [],
   "source": [
    "get_sql_command([nlqs[18]])"
   ]
  },
  {
   "cell_type": "code",
   "execution_count": null,
   "id": "aa9346a1",
   "metadata": {},
   "outputs": [],
   "source": [
    "doc = nlp(nlqs[18]) \n",
    "options = {'compact': False, 'word_spacing': 35, 'distance': 80, 'arrow_spacing': 1, 'arrow_stroke': 1} \n",
    "displacy.render(doc, style='dep', options=options)"
   ]
  },
  {
   "cell_type": "code",
   "execution_count": null,
   "id": "c0d398d5",
   "metadata": {},
   "outputs": [],
   "source": [
    "get_sql_command([nlqs[19]])"
   ]
  },
  {
   "cell_type": "code",
   "execution_count": null,
   "id": "609f2122",
   "metadata": {},
   "outputs": [],
   "source": [
    "doc = nlp(nlqs[19]) \n",
    "options = {'compact': False, 'word_spacing': 35, 'distance': 80, 'arrow_spacing': 1, 'arrow_stroke': 1} \n",
    "displacy.render(doc, style='dep', options=options)"
   ]
  },
  {
   "cell_type": "code",
   "execution_count": null,
   "id": "9c136046",
   "metadata": {},
   "outputs": [],
   "source": [
    "get_sql_command([nlqs[20]])"
   ]
  },
  {
   "cell_type": "code",
   "execution_count": null,
   "id": "3a90c072",
   "metadata": {},
   "outputs": [],
   "source": [
    "doc = nlp(nlqs[20]) \n",
    "options = {'compact': False, 'word_spacing': 35, 'distance': 80, 'arrow_spacing': 1, 'arrow_stroke': 1} \n",
    "displacy.render(doc, style='dep', options=options)"
   ]
  },
  {
   "cell_type": "code",
   "execution_count": null,
   "id": "b0faf78e",
   "metadata": {},
   "outputs": [],
   "source": [
    "get_sql_command([nlqs[21]])"
   ]
  },
  {
   "cell_type": "code",
   "execution_count": null,
   "id": "6334732b",
   "metadata": {},
   "outputs": [],
   "source": [
    "doc = nlp(nlqs[21]) \n",
    "options = {'compact': False, 'word_spacing': 35, 'distance': 80, 'arrow_spacing': 1, 'arrow_stroke': 1} \n",
    "displacy.render(doc, style='dep', options=options)"
   ]
  },
  {
   "cell_type": "code",
   "execution_count": null,
   "id": "9a3ef1f2",
   "metadata": {},
   "outputs": [],
   "source": [
    "get_sql_command([nlqs[22]])"
   ]
  },
  {
   "cell_type": "code",
   "execution_count": null,
   "id": "b8dfb3ed",
   "metadata": {},
   "outputs": [],
   "source": [
    "doc = nlp(nlqs[22]) \n",
    "options = {'compact': False, 'word_spacing': 35, 'distance': 80, 'arrow_spacing': 1, 'arrow_stroke': 1} \n",
    "displacy.render(doc, style='dep', options=options)"
   ]
  },
  {
   "cell_type": "code",
   "execution_count": null,
   "id": "b70ce937",
   "metadata": {},
   "outputs": [],
   "source": [
    "get_sql_command([nlqs[23]])"
   ]
  },
  {
   "cell_type": "code",
   "execution_count": null,
   "id": "3663f445",
   "metadata": {},
   "outputs": [],
   "source": [
    "doc = nlp(nlqs[23]) \n",
    "options = {'compact': False, 'word_spacing': 35, 'distance': 80, 'arrow_spacing': 1, 'arrow_stroke': 1} \n",
    "displacy.render(doc, style='dep', options=options)"
   ]
  },
  {
   "cell_type": "code",
   "execution_count": null,
   "id": "dafcc207",
   "metadata": {},
   "outputs": [],
   "source": [
    "get_sql_command([nlqs[24]])"
   ]
  },
  {
   "cell_type": "code",
   "execution_count": null,
   "id": "d49c8fba",
   "metadata": {},
   "outputs": [],
   "source": [
    "doc = nlp(nlqs[24]) \n",
    "options = {'compact': False, 'word_spacing': 35, 'distance': 80, 'arrow_spacing': 1, 'arrow_stroke': 1} \n",
    "displacy.render(doc, style='dep', options=options)"
   ]
  },
  {
   "cell_type": "code",
   "execution_count": null,
   "id": "bcffae6e",
   "metadata": {},
   "outputs": [],
   "source": [
    "get_sql_command([nlqs[25]])"
   ]
  },
  {
   "cell_type": "code",
   "execution_count": null,
   "id": "0785e17a",
   "metadata": {},
   "outputs": [],
   "source": [
    "doc = nlp(nlqs[25]) \n",
    "options = {'compact': False, 'word_spacing': 35, 'distance': 80, 'arrow_spacing': 1, 'arrow_stroke': 1} \n",
    "displacy.render(doc, style='dep', options=options)"
   ]
  },
  {
   "cell_type": "code",
   "execution_count": null,
   "id": "7aee1291",
   "metadata": {},
   "outputs": [],
   "source": [
    "get_sql_command([nlqs[26]])"
   ]
  },
  {
   "cell_type": "code",
   "execution_count": null,
   "id": "a58d9c95",
   "metadata": {},
   "outputs": [],
   "source": [
    "doc = nlp(nlqs[26]) \n",
    "options = {'compact': False, 'word_spacing': 35, 'distance': 80, 'arrow_spacing': 1, 'arrow_stroke': 1} \n",
    "displacy.render(doc, style='dep', options=options)"
   ]
  },
  {
   "cell_type": "code",
   "execution_count": null,
   "id": "1eb98362",
   "metadata": {},
   "outputs": [],
   "source": [
    "get_sql_command([nlqs[27]])"
   ]
  },
  {
   "cell_type": "code",
   "execution_count": null,
   "id": "ecf9915d",
   "metadata": {},
   "outputs": [],
   "source": [
    "doc = nlp(nlqs[27]) \n",
    "options = {'compact': False, 'word_spacing': 35, 'distance': 80, 'arrow_spacing': 1, 'arrow_stroke': 1} \n",
    "displacy.render(doc, style='dep', options=options)"
   ]
  },
  {
   "cell_type": "code",
   "execution_count": null,
   "id": "16cae161",
   "metadata": {},
   "outputs": [],
   "source": [
    "get_sql_command([nlqs[28]])"
   ]
  },
  {
   "cell_type": "code",
   "execution_count": null,
   "id": "07305108",
   "metadata": {},
   "outputs": [],
   "source": [
    "doc = nlp(nlqs[28]) \n",
    "options = {'compact': False, 'word_spacing': 35, 'distance': 80, 'arrow_spacing': 1, 'arrow_stroke': 1} \n",
    "displacy.render(doc, style='dep', options=options)"
   ]
  },
  {
   "cell_type": "code",
   "execution_count": null,
   "id": "8a2ff827",
   "metadata": {},
   "outputs": [],
   "source": [
    "get_sql_command([nlqs[29]])"
   ]
  },
  {
   "cell_type": "code",
   "execution_count": null,
   "id": "96c17bf6",
   "metadata": {},
   "outputs": [],
   "source": [
    "doc = nlp(nlqs[29]) \n",
    "options = {'compact': False, 'word_spacing': 35, 'distance': 80, 'arrow_spacing': 1, 'arrow_stroke': 1} \n",
    "displacy.render(doc, style='dep', options=options)"
   ]
  },
  {
   "cell_type": "code",
   "execution_count": null,
   "id": "dce63780",
   "metadata": {},
   "outputs": [],
   "source": [
    "get_sql_command([nlqs[30]])"
   ]
  },
  {
   "cell_type": "code",
   "execution_count": null,
   "id": "edea3cdf",
   "metadata": {},
   "outputs": [],
   "source": [
    "doc = nlp(nlqs[30]) \n",
    "options = {'compact': False, 'word_spacing': 35, 'distance': 80, 'arrow_spacing': 1, 'arrow_stroke': 1} \n",
    "displacy.render(doc, style='dep', options=options)"
   ]
  },
  {
   "cell_type": "code",
   "execution_count": null,
   "id": "7828516d",
   "metadata": {},
   "outputs": [],
   "source": [
    "get_sql_command([nlqs[31]])"
   ]
  },
  {
   "cell_type": "code",
   "execution_count": 13,
   "id": "9d8b7a7e",
   "metadata": {},
   "outputs": [
    {
     "data": {
      "text/html": [
       "<span class=\"tex2jax_ignore\"><!DOCTYPE html>\n",
       "<html lang=\"pt\">\n",
       "    <head>\n",
       "        <title>displaCy</title>\n",
       "    </head>\n",
       "\n",
       "    <body style=\"font-size: 16px; font-family: -apple-system, BlinkMacSystemFont, 'Segoe UI', Helvetica, Arial, sans-serif, 'Apple Color Emoji', 'Segoe UI Emoji', 'Segoe UI Symbol'; padding: 4rem 2rem; direction: ltr\">\n",
       "<figure style=\"margin-bottom: 6rem\">\n",
       "<svg xmlns=\"http://www.w3.org/2000/svg\" xmlns:xlink=\"http://www.w3.org/1999/xlink\" xml:lang=\"pt\" id=\"e327865bfa694d1fb8871e9f5e5e99bc-0\" class=\"displacy\" width=\"1975\" height=\"487.0\" direction=\"ltr\" style=\"max-width: none; height: 487.0px; color: #000000; background: #ffffff; font-family: Arial; direction: ltr\">\n",
       "<text class=\"displacy-token\" fill=\"currentColor\" text-anchor=\"middle\" y=\"397.0\">\n",
       "    <tspan class=\"displacy-word\" fill=\"currentColor\" x=\"50\">devolva</tspan>\n",
       "    <tspan class=\"displacy-tag\" dy=\"2em\" fill=\"currentColor\" x=\"50\">VERB</tspan>\n",
       "</text>\n",
       "\n",
       "<text class=\"displacy-token\" fill=\"currentColor\" text-anchor=\"middle\" y=\"397.0\">\n",
       "    <tspan class=\"displacy-word\" fill=\"currentColor\" x=\"225\">a</tspan>\n",
       "    <tspan class=\"displacy-tag\" dy=\"2em\" fill=\"currentColor\" x=\"225\">DET</tspan>\n",
       "</text>\n",
       "\n",
       "<text class=\"displacy-token\" fill=\"currentColor\" text-anchor=\"middle\" y=\"397.0\">\n",
       "    <tspan class=\"displacy-word\" fill=\"currentColor\" x=\"400\">idade</tspan>\n",
       "    <tspan class=\"displacy-tag\" dy=\"2em\" fill=\"currentColor\" x=\"400\">NOUN</tspan>\n",
       "</text>\n",
       "\n",
       "<text class=\"displacy-token\" fill=\"currentColor\" text-anchor=\"middle\" y=\"397.0\">\n",
       "    <tspan class=\"displacy-word\" fill=\"currentColor\" x=\"575\">média</tspan>\n",
       "    <tspan class=\"displacy-tag\" dy=\"2em\" fill=\"currentColor\" x=\"575\">ADJ</tspan>\n",
       "</text>\n",
       "\n",
       "<text class=\"displacy-token\" fill=\"currentColor\" text-anchor=\"middle\" y=\"397.0\">\n",
       "    <tspan class=\"displacy-word\" fill=\"currentColor\" x=\"750\">no</tspan>\n",
       "    <tspan class=\"displacy-tag\" dy=\"2em\" fill=\"currentColor\" x=\"750\">ADP</tspan>\n",
       "</text>\n",
       "\n",
       "<text class=\"displacy-token\" fill=\"currentColor\" text-anchor=\"middle\" y=\"397.0\">\n",
       "    <tspan class=\"displacy-word\" fill=\"currentColor\" x=\"925\">município</tspan>\n",
       "    <tspan class=\"displacy-tag\" dy=\"2em\" fill=\"currentColor\" x=\"925\">NOUN</tspan>\n",
       "</text>\n",
       "\n",
       "<text class=\"displacy-token\" fill=\"currentColor\" text-anchor=\"middle\" y=\"397.0\">\n",
       "    <tspan class=\"displacy-word\" fill=\"currentColor\" x=\"1100\">de</tspan>\n",
       "    <tspan class=\"displacy-tag\" dy=\"2em\" fill=\"currentColor\" x=\"1100\">ADP</tspan>\n",
       "</text>\n",
       "\n",
       "<text class=\"displacy-token\" fill=\"currentColor\" text-anchor=\"middle\" y=\"397.0\">\n",
       "    <tspan class=\"displacy-word\" fill=\"currentColor\" x=\"1275\">São</tspan>\n",
       "    <tspan class=\"displacy-tag\" dy=\"2em\" fill=\"currentColor\" x=\"1275\">PROPN</tspan>\n",
       "</text>\n",
       "\n",
       "<text class=\"displacy-token\" fill=\"currentColor\" text-anchor=\"middle\" y=\"397.0\">\n",
       "    <tspan class=\"displacy-word\" fill=\"currentColor\" x=\"1450\">Paulo</tspan>\n",
       "    <tspan class=\"displacy-tag\" dy=\"2em\" fill=\"currentColor\" x=\"1450\">PROPN</tspan>\n",
       "</text>\n",
       "\n",
       "<text class=\"displacy-token\" fill=\"currentColor\" text-anchor=\"middle\" y=\"397.0\">\n",
       "    <tspan class=\"displacy-word\" fill=\"currentColor\" x=\"1625\">por</tspan>\n",
       "    <tspan class=\"displacy-tag\" dy=\"2em\" fill=\"currentColor\" x=\"1625\">ADP</tspan>\n",
       "</text>\n",
       "\n",
       "<text class=\"displacy-token\" fill=\"currentColor\" text-anchor=\"middle\" y=\"397.0\">\n",
       "    <tspan class=\"displacy-word\" fill=\"currentColor\" x=\"1800\">diagnóstico</tspan>\n",
       "    <tspan class=\"displacy-tag\" dy=\"2em\" fill=\"currentColor\" x=\"1800\">NOUN</tspan>\n",
       "</text>\n",
       "\n",
       "<g class=\"displacy-arrow\">\n",
       "    <path class=\"displacy-arc\" id=\"arrow-e327865bfa694d1fb8871e9f5e5e99bc-0-0\" stroke-width=\"2px\" d=\"M245,352.0 C245,264.5 385.0,264.5 385.0,352.0\" fill=\"none\" stroke=\"currentColor\"/>\n",
       "    <text dy=\"1.25em\" style=\"font-size: 0.8em; letter-spacing: 1px\">\n",
       "        <textPath xlink:href=\"#arrow-e327865bfa694d1fb8871e9f5e5e99bc-0-0\" class=\"displacy-label\" startOffset=\"50%\" side=\"left\" fill=\"currentColor\" text-anchor=\"middle\">det</textPath>\n",
       "    </text>\n",
       "    <path class=\"displacy-arrowhead\" d=\"M245,354.0 L237,342.0 253,342.0\" fill=\"currentColor\"/>\n",
       "</g>\n",
       "\n",
       "<g class=\"displacy-arrow\">\n",
       "    <path class=\"displacy-arc\" id=\"arrow-e327865bfa694d1fb8871e9f5e5e99bc-0-1\" stroke-width=\"2px\" d=\"M70,352.0 C70,177.0 390.0,177.0 390.0,352.0\" fill=\"none\" stroke=\"currentColor\"/>\n",
       "    <text dy=\"1.25em\" style=\"font-size: 0.8em; letter-spacing: 1px\">\n",
       "        <textPath xlink:href=\"#arrow-e327865bfa694d1fb8871e9f5e5e99bc-0-1\" class=\"displacy-label\" startOffset=\"50%\" side=\"left\" fill=\"currentColor\" text-anchor=\"middle\">obj</textPath>\n",
       "    </text>\n",
       "    <path class=\"displacy-arrowhead\" d=\"M390.0,354.0 L398.0,342.0 382.0,342.0\" fill=\"currentColor\"/>\n",
       "</g>\n",
       "\n",
       "<g class=\"displacy-arrow\">\n",
       "    <path class=\"displacy-arc\" id=\"arrow-e327865bfa694d1fb8871e9f5e5e99bc-0-2\" stroke-width=\"2px\" d=\"M420,352.0 C420,264.5 560.0,264.5 560.0,352.0\" fill=\"none\" stroke=\"currentColor\"/>\n",
       "    <text dy=\"1.25em\" style=\"font-size: 0.8em; letter-spacing: 1px\">\n",
       "        <textPath xlink:href=\"#arrow-e327865bfa694d1fb8871e9f5e5e99bc-0-2\" class=\"displacy-label\" startOffset=\"50%\" side=\"left\" fill=\"currentColor\" text-anchor=\"middle\">amod</textPath>\n",
       "    </text>\n",
       "    <path class=\"displacy-arrowhead\" d=\"M560.0,354.0 L568.0,342.0 552.0,342.0\" fill=\"currentColor\"/>\n",
       "</g>\n",
       "\n",
       "<g class=\"displacy-arrow\">\n",
       "    <path class=\"displacy-arc\" id=\"arrow-e327865bfa694d1fb8871e9f5e5e99bc-0-3\" stroke-width=\"2px\" d=\"M770,352.0 C770,264.5 910.0,264.5 910.0,352.0\" fill=\"none\" stroke=\"currentColor\"/>\n",
       "    <text dy=\"1.25em\" style=\"font-size: 0.8em; letter-spacing: 1px\">\n",
       "        <textPath xlink:href=\"#arrow-e327865bfa694d1fb8871e9f5e5e99bc-0-3\" class=\"displacy-label\" startOffset=\"50%\" side=\"left\" fill=\"currentColor\" text-anchor=\"middle\">case</textPath>\n",
       "    </text>\n",
       "    <path class=\"displacy-arrowhead\" d=\"M770,354.0 L762,342.0 778,342.0\" fill=\"currentColor\"/>\n",
       "</g>\n",
       "\n",
       "<g class=\"displacy-arrow\">\n",
       "    <path class=\"displacy-arc\" id=\"arrow-e327865bfa694d1fb8871e9f5e5e99bc-0-4\" stroke-width=\"2px\" d=\"M70,352.0 C70,89.5 920.0,89.5 920.0,352.0\" fill=\"none\" stroke=\"currentColor\"/>\n",
       "    <text dy=\"1.25em\" style=\"font-size: 0.8em; letter-spacing: 1px\">\n",
       "        <textPath xlink:href=\"#arrow-e327865bfa694d1fb8871e9f5e5e99bc-0-4\" class=\"displacy-label\" startOffset=\"50%\" side=\"left\" fill=\"currentColor\" text-anchor=\"middle\">obl</textPath>\n",
       "    </text>\n",
       "    <path class=\"displacy-arrowhead\" d=\"M920.0,354.0 L928.0,342.0 912.0,342.0\" fill=\"currentColor\"/>\n",
       "</g>\n",
       "\n",
       "<g class=\"displacy-arrow\">\n",
       "    <path class=\"displacy-arc\" id=\"arrow-e327865bfa694d1fb8871e9f5e5e99bc-0-5\" stroke-width=\"2px\" d=\"M1120,352.0 C1120,264.5 1260.0,264.5 1260.0,352.0\" fill=\"none\" stroke=\"currentColor\"/>\n",
       "    <text dy=\"1.25em\" style=\"font-size: 0.8em; letter-spacing: 1px\">\n",
       "        <textPath xlink:href=\"#arrow-e327865bfa694d1fb8871e9f5e5e99bc-0-5\" class=\"displacy-label\" startOffset=\"50%\" side=\"left\" fill=\"currentColor\" text-anchor=\"middle\">case</textPath>\n",
       "    </text>\n",
       "    <path class=\"displacy-arrowhead\" d=\"M1120,354.0 L1112,342.0 1128,342.0\" fill=\"currentColor\"/>\n",
       "</g>\n",
       "\n",
       "<g class=\"displacy-arrow\">\n",
       "    <path class=\"displacy-arc\" id=\"arrow-e327865bfa694d1fb8871e9f5e5e99bc-0-6\" stroke-width=\"2px\" d=\"M945,352.0 C945,177.0 1265.0,177.0 1265.0,352.0\" fill=\"none\" stroke=\"currentColor\"/>\n",
       "    <text dy=\"1.25em\" style=\"font-size: 0.8em; letter-spacing: 1px\">\n",
       "        <textPath xlink:href=\"#arrow-e327865bfa694d1fb8871e9f5e5e99bc-0-6\" class=\"displacy-label\" startOffset=\"50%\" side=\"left\" fill=\"currentColor\" text-anchor=\"middle\">nmod</textPath>\n",
       "    </text>\n",
       "    <path class=\"displacy-arrowhead\" d=\"M1265.0,354.0 L1273.0,342.0 1257.0,342.0\" fill=\"currentColor\"/>\n",
       "</g>\n",
       "\n",
       "<g class=\"displacy-arrow\">\n",
       "    <path class=\"displacy-arc\" id=\"arrow-e327865bfa694d1fb8871e9f5e5e99bc-0-7\" stroke-width=\"2px\" d=\"M1295,352.0 C1295,264.5 1435.0,264.5 1435.0,352.0\" fill=\"none\" stroke=\"currentColor\"/>\n",
       "    <text dy=\"1.25em\" style=\"font-size: 0.8em; letter-spacing: 1px\">\n",
       "        <textPath xlink:href=\"#arrow-e327865bfa694d1fb8871e9f5e5e99bc-0-7\" class=\"displacy-label\" startOffset=\"50%\" side=\"left\" fill=\"currentColor\" text-anchor=\"middle\">flat:name</textPath>\n",
       "    </text>\n",
       "    <path class=\"displacy-arrowhead\" d=\"M1435.0,354.0 L1443.0,342.0 1427.0,342.0\" fill=\"currentColor\"/>\n",
       "</g>\n",
       "\n",
       "<g class=\"displacy-arrow\">\n",
       "    <path class=\"displacy-arc\" id=\"arrow-e327865bfa694d1fb8871e9f5e5e99bc-0-8\" stroke-width=\"2px\" d=\"M1645,352.0 C1645,264.5 1785.0,264.5 1785.0,352.0\" fill=\"none\" stroke=\"currentColor\"/>\n",
       "    <text dy=\"1.25em\" style=\"font-size: 0.8em; letter-spacing: 1px\">\n",
       "        <textPath xlink:href=\"#arrow-e327865bfa694d1fb8871e9f5e5e99bc-0-8\" class=\"displacy-label\" startOffset=\"50%\" side=\"left\" fill=\"currentColor\" text-anchor=\"middle\">case</textPath>\n",
       "    </text>\n",
       "    <path class=\"displacy-arrowhead\" d=\"M1645,354.0 L1637,342.0 1653,342.0\" fill=\"currentColor\"/>\n",
       "</g>\n",
       "\n",
       "<g class=\"displacy-arrow\">\n",
       "    <path class=\"displacy-arc\" id=\"arrow-e327865bfa694d1fb8871e9f5e5e99bc-0-9\" stroke-width=\"2px\" d=\"M70,352.0 C70,2.0 1800.0,2.0 1800.0,352.0\" fill=\"none\" stroke=\"currentColor\"/>\n",
       "    <text dy=\"1.25em\" style=\"font-size: 0.8em; letter-spacing: 1px\">\n",
       "        <textPath xlink:href=\"#arrow-e327865bfa694d1fb8871e9f5e5e99bc-0-9\" class=\"displacy-label\" startOffset=\"50%\" side=\"left\" fill=\"currentColor\" text-anchor=\"middle\">obl</textPath>\n",
       "    </text>\n",
       "    <path class=\"displacy-arrowhead\" d=\"M1800.0,354.0 L1808.0,342.0 1792.0,342.0\" fill=\"currentColor\"/>\n",
       "</g>\n",
       "</svg>\n",
       "</figure>\n",
       "</body>\n",
       "</html></span>"
      ],
      "text/plain": [
       "<IPython.core.display.HTML object>"
      ]
     },
     "metadata": {},
     "output_type": "display_data"
    },
    {
     "name": "stdout",
     "output_type": "stream",
     "text": [
      "\n",
      "Using the 'dep' visualizer\n",
      "Serving on http://0.0.0.0:5000 ...\n",
      "\n"
     ]
    },
    {
     "name": "stderr",
     "output_type": "stream",
     "text": [
      "127.0.0.1 - - [28/Aug/2022 15:18:56] \"GET / HTTP/1.1\" 200 9249\n",
      "127.0.0.1 - - [28/Aug/2022 15:18:56] \"GET /favicon.ico HTTP/1.1\" 200 9249\n"
     ]
    },
    {
     "name": "stdout",
     "output_type": "stream",
     "text": [
      "Shutting down server on port 5000.\n"
     ]
    }
   ],
   "source": [
    "doc = nlp(nlqs[31]) \n",
    "options = {'compact': False, 'word_spacing': 35, 'distance': 80, 'arrow_spacing': 1, 'arrow_stroke': 1} \n",
    "displacy.render(doc, style='dep', options=options)"
   ]
  },
  {
   "cell_type": "code",
   "execution_count": null,
   "id": "51bb0170",
   "metadata": {},
   "outputs": [],
   "source": []
  }
 ],
 "metadata": {
  "kernelspec": {
   "display_name": "Python 3 (ipykernel)",
   "language": "python",
   "name": "python3"
  },
  "language_info": {
   "codemirror_mode": {
    "name": "ipython",
    "version": 3
   },
   "file_extension": ".py",
   "mimetype": "text/x-python",
   "name": "python",
   "nbconvert_exporter": "python",
   "pygments_lexer": "ipython3",
   "version": "3.10.4"
  }
 },
 "nbformat": 4,
 "nbformat_minor": 5
}
